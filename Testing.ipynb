{
 "cells": [
  {
   "cell_type": "code",
   "execution_count": 1,
   "metadata": {},
   "outputs": [],
   "source": [
    "from __future__ import division\n",
    "from pyomo.environ import *\n",
    "import numpy as np\n",
    "import pandas as pd\n",
    "import time\n",
    "from functools import reduce"
   ]
  },
  {
   "cell_type": "code",
   "execution_count": 3,
   "metadata": {},
   "outputs": [],
   "source": [
    "products=2\n",
    "weeks=3\n",
    "coef_p1 = [-6,0.01,1,-0.003,23]\n",
    "coef_p2 = [1.2,-0.004,-5,0.02,20]\n",
    "coef = [coef_p1,coef_p2]\n",
    "\n",
    "base_price_1=[10,10,10]\n",
    "base_price_2=[10,10,10]\n",
    "base_price = [base_price_1, base_price_2]\n",
    "\n",
    "edlp_p1=[9.5,10,10]\n",
    "edlp_p2 =[10,10,9.6]\n",
    "edlp = [edlp_p1,edlp_p2]\n",
    "\n",
    "tpr_p1=[0,5,15]\n",
    "tpr_p2 =[15,5,0]\n",
    "tpr = [tpr_p1,tpr_p2]\n",
    "\n",
    "flag_p1=[1,0,0]\n",
    "flag_p2=[0,0,1]\n",
    "flag = [flag_p1,flag_p2]"
   ]
  },
  {
   "cell_type": "code",
   "execution_count": 4,
   "metadata": {},
   "outputs": [],
   "source": [
    "def cal_sales_prior(edlp,tpr,flag,coef,j):\n",
    "    unit_sales = []\n",
    "    for i in  range(weeks):\n",
    "        edlp_sum = 0\n",
    "        tpr_sum = 0\n",
    "        total = 0\n",
    "        cc= 0\n",
    "        for p in range(products):\n",
    "            if p==j:\n",
    "                z = 0\n",
    "                edlp_sum+= (np.log( edlp[p][i])*coef[cc])* z\n",
    "                tpr_sum+= (np.log(base_price[p][i])*coef[cc]+ tpr[p][i]*z)*(1- z)\n",
    "            else:\n",
    "                edlp_sum+= (np.log( edlp[p][i])*coef[cc])* flag[p][i]\n",
    "                tpr_sum+= (np.log(base_price[p][i])*coef[cc]+ tpr[p][i]*coef[cc+1])*(1- flag[p][i])\n",
    "                \n",
    "            cc+=2\n",
    "            \n",
    "        unit_sales.append(np.exp(edlp_sum+ tpr_sum +coef[4]))                 \n",
    "    return unit_sales\n",
    "\n",
    "def cal_sales(edlp,tpr,flag,coef,j):\n",
    "    unit_sales = []\n",
    "    for i in  range(weeks):\n",
    "#         print(edlp_p1[i],coef[0],flag_p1[i])\n",
    "        edlp_sum = 0\n",
    "        tpr_sum = 0\n",
    "        cc= 0\n",
    "        for p in range(products):\n",
    "            edlp_sum+= (np.log( edlp[p][i])*coef[cc])* flag[p][i]\n",
    "            tpr_sum+= (np.log(base_price[p][i])*coef[cc]+ tpr[p][i]*coef[cc+1])*(1- flag[p][i])\n",
    "            cc+=2\n",
    "            \n",
    "            \n",
    "        unit_sales.append(np.exp(edlp_sum+ tpr_sum +coef[4]))                 \n",
    "   \n",
    "    return unit_sales\n",
    "\n",
    "def calc_price(edlp,tpr,flag,j):\n",
    "    price = []\n",
    "    for i in range(weeks):\n",
    "        price.append((base_price[j][i]*(1-tpr[j][i]/100)*(1-flag[j][i]))  +  (edlp[j][i]*flag[j][i]))\n",
    "                   \n",
    "    return price\n",
    "                   \n",
    "def calc_dollar_sales(edlp,tpr,flag,coef, prior=False):\n",
    "    dollar_sales=[]\n",
    "    for j in range(products):\n",
    "        if not prior:\n",
    "            unit_sales= cal_sales(edlp,tpr,flag,coef[j],j)\n",
    "            price = calc_price(edlp,tpr,flag,j)\n",
    "        else:\n",
    "            unit_sales = cal_sales_prior(edlp,tpr,flag,coef[j],j)\n",
    "            price = base_price[j]\n",
    "\n",
    "        dollar_sales_single = [unit_sales[i]*price[i] for i in range(weeks)]\n",
    "        dollar_sales.append(dollar_sales_single)\n",
    "    \n",
    "    return dollar_sales\n",
    "\n",
    "def calc_total_trade_spent(edlp_p1, tpr_p1, flag_p1, edlp_p2, tpr_p2, flag_p2,coef):\n",
    "    total_trade_spent = []\n",
    "    for j in range(products):\n",
    "        unit_sales= cal_sales(edlp_p1, tpr_p1, flag_p1, \n",
    "                              edlp_p2, tpr_p2, flag_p2, coef[j])\n",
    "        price = calc_price(edlp_p1, tpr_p1, flag_p1, edlp_p2, tpr_p2, flag_p2,j)\n",
    "\n",
    "        trade_spent = [base_price[j][i]-price[i] for i in range(weeks)]\n",
    "        total_trade_spent_partial = [trade_spent[i]*unit_sales[i] for i in range(weeks)]\n",
    "        total_trade_spent.append(total_trade_spent_partial)\n",
    "        \n",
    "    return total_trade_spent\n",
    "\n",
    "def calc_edlp_trade_spent(edlp_p1, tpr_p1, flag_p1, edlp_p2, tpr_p2, flag_p2,coef):\n",
    "    edlp_trade_spent = []\n",
    "    flag = [flag_p1,flag_p2]\n",
    "    for j in range(products):\n",
    "        unit_sales= cal_sales(edlp_p1, tpr_p1, flag_p1, \n",
    "                              edlp_p2, tpr_p2, flag_p2, coef[j])\n",
    "        price = calc_price(edlp_p1, tpr_p1, flag_p1, edlp_p2, tpr_p2, flag_p2,j)\n",
    "\n",
    "        trade_spent = [base_price[j][i]-price[i] for i in range(weeks)]\n",
    "        total_trade_spent_partial = [trade_spent[i]*unit_sales[i] for i in range(weeks)]\n",
    "\n",
    "        edlp_trade_spent_partial = [total_trade_spent_partial[i]*flag[j][i] for i in range(weeks)]\n",
    "        edlp_trade_spent.append(edlp_trade_spent_partial)\n",
    "    return edlp_trade_spent\n",
    "\n",
    "\n",
    "def calculate_lift(dollar_sales, prior_prom_sales):\n",
    "    lift = []\n",
    "    for i in range(products):\n",
    "        for j in range(weeks):\n",
    "            lift.append(dollar_sales[i][j] - prior_prom_sales[i][j])\n",
    "    return lift"
   ]
  },
  {
   "cell_type": "code",
   "execution_count": 6,
   "metadata": {},
   "outputs": [
    {
     "name": "stdout",
     "output_type": "stream",
     "text": [
      "[[931600.7555572463, 959972.2223984859, 935501.1308398938], [723032.7419486993, 753709.0819777541, 724155.7261574194]]\n",
      "[[1203959.2996011795, 958731.498194816, 923862.6607326979], [829593.297652488, 791328.4901867423, 852603.3544627768]]\n"
     ]
    },
    {
     "data": {
      "text/plain": [
       "[272358.5440439333,\n",
       " -1240.7242036698153,\n",
       " -11638.470107195899,\n",
       " 106560.55570378865,\n",
       " 37619.40820898814,\n",
       " 128447.62830535742]"
      ]
     },
     "execution_count": 6,
     "metadata": {},
     "output_type": "execute_result"
    }
   ],
   "source": [
    "initial = calc_dollar_sales(edlp,tpr,flag,coef,True)\n",
    "final = calc_dollar_sales(edlp,tpr,flag,coef)\n",
    "\n",
    "print(initial)\n",
    "print(final)\n",
    "calculate_lift(final, initial)"
   ]
  },
  {
   "cell_type": "code",
   "execution_count": null,
   "metadata": {},
   "outputs": [],
   "source": []
  }
 ],
 "metadata": {
  "kernelspec": {
   "display_name": "Python 3",
   "language": "python",
   "name": "python3"
  },
  "language_info": {
   "codemirror_mode": {
    "name": "ipython",
    "version": 3
   },
   "file_extension": ".py",
   "mimetype": "text/x-python",
   "name": "python",
   "nbconvert_exporter": "python",
   "pygments_lexer": "ipython3",
   "version": "3.7.0"
  }
 },
 "nbformat": 4,
 "nbformat_minor": 4
}
