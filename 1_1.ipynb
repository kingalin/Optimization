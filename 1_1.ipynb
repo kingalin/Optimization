{
 "cells": [
  {
   "cell_type": "code",
   "execution_count": 1,
   "metadata": {
    "colab": {},
    "colab_type": "code",
    "id": "8KgIGrINM3CW"
   },
   "outputs": [],
   "source": [
    "!pip install bayesian-optimization -q"
   ]
  },
  {
   "cell_type": "code",
   "execution_count": 2,
   "metadata": {
    "colab": {},
    "colab_type": "code",
    "id": "GutkJft2YCZI"
   },
   "outputs": [],
   "source": [
    "import numpy as np\n",
    "import pandas as pd"
   ]
  },
  {
   "cell_type": "code",
   "execution_count": 12,
   "metadata": {
    "colab": {},
    "colab_type": "code",
    "id": "YHx3zntyZA6o"
   },
   "outputs": [],
   "source": [
    "import numpy as np\n",
    "import pandas as pd\n",
    "data = pd.DataFrame(data=[10,10,10],columns=['base_price'])\n",
    "eldp_coeff = -1\n",
    "tpr_coeff = 4\n",
    "target_trade_spend = 154.654\n",
    "\n",
    "def objective(**kwargs):  \n",
    "    data['eldp'] = [kwargs['eldp1'],kwargs['eldp2'],kwargs['eldp3']]\n",
    "    data['tpr'] = [kwargs['tpr1'],kwargs['tpr2'],kwargs['tpr3']]\n",
    "    data['unit_sales'] = data['eldp'] * eldp_coeff + data['tpr'] * tpr_coeff + 10\n",
    "    data['price'] = data['eldp'] * (1-data['tpr']/100)\n",
    "    data['dollar_sales'] = data['price'] * data['unit_sales']\n",
    "    data['trade_spend'] = data['base_price'] - data['price']\n",
    "    data['total_trade_spend'] = data['trade_spend']*data['unit_sales']\n",
    "\n",
    "    total_spend = data['total_trade_spend'].sum()\n",
    "    total_dollar_sales = data['dollar_sales'].sum()\n",
    "    print(\"Total Dollar Sales: \", total_dollar_sales,\" Total Spending: \", total_spend, \" Diff Spend: \",total_spend - target_trade_spend)\n",
    "    return 0.3*total_dollar_sales - (total_spend - target_trade_spend)\n",
    "\n",
    "# objective(eldp1=10,eldp2=10,eldp3=10,tpr1=11.3567773687406,tpr2=11.3489263190059,tpr3=11.3516894575638)"
   ]
  },
  {
   "cell_type": "code",
   "execution_count": 13,
   "metadata": {
    "colab": {
     "base_uri": "https://localhost:8080/",
     "height": 1000
    },
    "colab_type": "code",
    "id": "eWVazS_HMGZ2",
    "outputId": "d3a6d645-2dd6-4ff4-cd9e-5bbc4b61243f"
   },
   "outputs": [
    {
     "name": "stdout",
     "output_type": "stream",
     "text": [
      "|   iter    |  target   |   eldp1   |   eldp2   |   eldp3   |   tpr1    |   tpr2    |   tpr3    |\n",
      "-------------------------------------------------------------------------------------------------\n",
      "Total Dollar Sales:  1316.532680898908  Total Spending:  267.3487195282329  Diff Spend:  112.6947195282329\n",
      "| \u001b[0m 1       \u001b[0m | \u001b[0m 282.3   \u001b[0m | \u001b[0m 9.709   \u001b[0m | \u001b[0m 9.86    \u001b[0m | \u001b[0m 9.5     \u001b[0m | \u001b[0m 18.6    \u001b[0m | \u001b[0m 11.6    \u001b[0m | \u001b[0m 9.155   \u001b[0m |\n",
      "Total Dollar Sales:  2396.0685310090976  Total Spending:  1172.1038747737857  Diff Spend:  1017.4498747737857\n",
      "| \u001b[0m 2       \u001b[0m | \u001b[0m-298.6   \u001b[0m | \u001b[0m 9.593   \u001b[0m | \u001b[0m 9.673   \u001b[0m | \u001b[0m 9.698   \u001b[0m | \u001b[0m 29.25   \u001b[0m | \u001b[0m 23.86   \u001b[0m | \u001b[0m 35.83   \u001b[0m |\n",
      "Total Dollar Sales:  2403.781293995339  Total Spending:  1169.3007733923646  Diff Spend:  1014.6467733923646\n",
      "| \u001b[0m 3       \u001b[0m | \u001b[0m-293.5   \u001b[0m | \u001b[0m 9.602   \u001b[0m | \u001b[0m 9.939   \u001b[0m | \u001b[0m 9.514   \u001b[0m | \u001b[0m 35.17   \u001b[0m | \u001b[0m 23.78   \u001b[0m | \u001b[0m 30.14   \u001b[0m |\n",
      "Total Dollar Sales:  2469.610600228993  Total Spending:  1692.9082999755467  Diff Spend:  1538.2542999755467\n",
      "| \u001b[0m 4       \u001b[0m | \u001b[0m-797.4   \u001b[0m | \u001b[0m 9.57    \u001b[0m | \u001b[0m 9.599   \u001b[0m | \u001b[0m 9.9     \u001b[0m | \u001b[0m 48.57   \u001b[0m | \u001b[0m 19.1    \u001b[0m | \u001b[0m 36.15   \u001b[0m |\n",
      "Total Dollar Sales:  1636.1379355536544  Total Spending:  926.2317355188529  Diff Spend:  771.5777355188529\n",
      "| \u001b[0m 5       \u001b[0m | \u001b[0m-280.7   \u001b[0m | \u001b[0m 9.938   \u001b[0m | \u001b[0m 9.947   \u001b[0m | \u001b[0m 9.543   \u001b[0m | \u001b[0m 6.757   \u001b[0m | \u001b[0m 12.64   \u001b[0m | \u001b[0m 44.52   \u001b[0m |\n",
      "Total Dollar Sales:  2306.9436460373854  Total Spending:  1073.6740878908677  Diff Spend:  919.0200878908677\n",
      "| \u001b[0m 6       \u001b[0m | \u001b[0m-226.9   \u001b[0m | \u001b[0m 9.549   \u001b[0m | \u001b[0m 9.711   \u001b[0m | \u001b[0m 9.979   \u001b[0m | \u001b[0m 28.99   \u001b[0m | \u001b[0m 36.13   \u001b[0m | \u001b[0m 19.2    \u001b[0m |\n",
      "Total Dollar Sales:  2832.4698940449907  Total Spending:  2251.7409363867364  Diff Spend:  2097.0869363867364\n",
      "| \u001b[0m 7       \u001b[0m | \u001b[0m-1.247e+0\u001b[0m | \u001b[0m 9.843   \u001b[0m | \u001b[0m 9.917   \u001b[0m | \u001b[0m 9.509   \u001b[0m | \u001b[0m 38.76   \u001b[0m | \u001b[0m 49.5    \u001b[0m | \u001b[0m 38.67   \u001b[0m |\n",
      "Total Dollar Sales:  2284.5399313834487  Total Spending:  1294.7810417379078  Diff Spend:  1140.1270417379078\n",
      "| \u001b[0m 8       \u001b[0m | \u001b[0m-454.8   \u001b[0m | \u001b[0m 9.64    \u001b[0m | \u001b[0m 9.895   \u001b[0m | \u001b[0m 9.552   \u001b[0m | \u001b[0m 25.16   \u001b[0m | \u001b[0m 45.89   \u001b[0m | \u001b[0m 18.21   \u001b[0m |\n",
      "Total Dollar Sales:  1903.8786797302116  Total Spending:  789.7540208888307  Diff Spend:  635.1000208888307\n",
      "| \u001b[0m 9       \u001b[0m | \u001b[0m-63.94   \u001b[0m | \u001b[0m 9.644   \u001b[0m | \u001b[0m 9.565   \u001b[0m | \u001b[0m 9.51    \u001b[0m | \u001b[0m 35.55   \u001b[0m | \u001b[0m 14.52   \u001b[0m | \u001b[0m 16.95   \u001b[0m |\n",
      "Total Dollar Sales:  2136.18908445665  Total Spending:  1057.6420982879486  Diff Spend:  902.9880982879486\n",
      "| \u001b[0m 10      \u001b[0m | \u001b[0m-262.1   \u001b[0m | \u001b[0m 9.746   \u001b[0m | \u001b[0m 9.527   \u001b[0m | \u001b[0m 9.787   \u001b[0m | \u001b[0m 11.6    \u001b[0m | \u001b[0m 31.52   \u001b[0m | \u001b[0m 36.49   \u001b[0m |\n",
      "Total Dollar Sales:  1770.5341639802057  Total Spending:  638.4643250472211  Diff Spend:  483.8103250472211\n",
      "| \u001b[0m 11      \u001b[0m | \u001b[0m 47.35   \u001b[0m | \u001b[0m 9.551   \u001b[0m | \u001b[0m 9.707   \u001b[0m | \u001b[0m 9.847   \u001b[0m | \u001b[0m 23.64   \u001b[0m | \u001b[0m 7.248   \u001b[0m | \u001b[0m 29.12   \u001b[0m |\n",
      "Total Dollar Sales:  2214.3931935842984  Total Spending:  1319.3674017343624  Diff Spend:  1164.7134017343624\n",
      "| \u001b[0m 12      \u001b[0m | \u001b[0m-500.4   \u001b[0m | \u001b[0m 9.832   \u001b[0m | \u001b[0m 9.757   \u001b[0m | \u001b[0m 9.972   \u001b[0m | \u001b[0m 31.39   \u001b[0m | \u001b[0m 45.65   \u001b[0m | \u001b[0m 11.19   \u001b[0m |\n",
      "Total Dollar Sales:  2045.2402786651587  Total Spending:  1156.169546035364  Diff Spend:  1001.515546035364\n",
      "| \u001b[0m 13      \u001b[0m | \u001b[0m-387.9   \u001b[0m | \u001b[0m 9.57    \u001b[0m | \u001b[0m 9.904   \u001b[0m | \u001b[0m 9.699   \u001b[0m | \u001b[0m 12.44   \u001b[0m | \u001b[0m 46.74   \u001b[0m | \u001b[0m 20.65   \u001b[0m |\n",
      "Total Dollar Sales:  2465.8932331638607  Total Spending:  1239.6295554470962  Diff Spend:  1084.9755554470962\n",
      "| \u001b[0m 14      \u001b[0m | \u001b[0m-345.2   \u001b[0m | \u001b[0m 9.875   \u001b[0m | \u001b[0m 9.863   \u001b[0m | \u001b[0m 9.942   \u001b[0m | \u001b[0m 33.07   \u001b[0m | \u001b[0m 38.79   \u001b[0m | \u001b[0m 20.7    \u001b[0m |\n",
      "Total Dollar Sales:  2728.863821489383  Total Spending:  1928.1257293281747  Diff Spend:  1773.4717293281747\n",
      "| \u001b[0m 15      \u001b[0m | \u001b[0m-954.8   \u001b[0m | \u001b[0m 9.635   \u001b[0m | \u001b[0m 9.948   \u001b[0m | \u001b[0m 9.714   \u001b[0m | \u001b[0m 48.42   \u001b[0m | \u001b[0m 34.85   \u001b[0m | \u001b[0m 32.98   \u001b[0m |\n",
      "Total Dollar Sales:  2051.8825467727243  Total Spending:  757.942831706167  Diff Spend:  603.288831706167\n",
      "| \u001b[0m 16      \u001b[0m | \u001b[0m 12.28   \u001b[0m | \u001b[0m 9.557   \u001b[0m | \u001b[0m 9.975   \u001b[0m | \u001b[0m 9.725   \u001b[0m | \u001b[0m 31.03   \u001b[0m | \u001b[0m 23.37   \u001b[0m | \u001b[0m 15.67   \u001b[0m |\n",
      "Total Dollar Sales:  2279.642582833453  Total Spending:  975.4840222659915  Diff Spend:  820.8300222659915\n",
      "| \u001b[0m 17      \u001b[0m | \u001b[0m-136.9   \u001b[0m | \u001b[0m 9.952   \u001b[0m | \u001b[0m 9.787   \u001b[0m | \u001b[0m 9.501   \u001b[0m | \u001b[0m 32.77   \u001b[0m | \u001b[0m 19.7    \u001b[0m | \u001b[0m 28.72   \u001b[0m |\n",
      "Total Dollar Sales:  2083.518839554098  Total Spending:  1344.2358916825528  Diff Spend:  1189.5818916825529\n",
      "| \u001b[0m 18      \u001b[0m | \u001b[0m-564.5   \u001b[0m | \u001b[0m 9.943   \u001b[0m | \u001b[0m 9.679   \u001b[0m | \u001b[0m 9.954   \u001b[0m | \u001b[0m 33.05   \u001b[0m | \u001b[0m 5.712   \u001b[0m | \u001b[0m 46.82   \u001b[0m |\n",
      "Total Dollar Sales:  2278.1059187013343  Total Spending:  1507.3801533977917  Diff Spend:  1352.7261533977917\n",
      "| \u001b[0m 19      \u001b[0m | \u001b[0m-669.3   \u001b[0m | \u001b[0m 9.845   \u001b[0m | \u001b[0m 9.999   \u001b[0m | \u001b[0m 9.586   \u001b[0m | \u001b[0m 11.17   \u001b[0m | \u001b[0m 46.97   \u001b[0m | \u001b[0m 36.36   \u001b[0m |\n",
      "Total Dollar Sales:  2248.2912262678983  Total Spending:  1524.7085377279884  Diff Spend:  1370.0545377279884\n",
      "| \u001b[0m 20      \u001b[0m | \u001b[0m-695.6   \u001b[0m | \u001b[0m 9.533   \u001b[0m | \u001b[0m 9.878   \u001b[0m | \u001b[0m 9.877   \u001b[0m | \u001b[0m 46.54   \u001b[0m | \u001b[0m 37.02   \u001b[0m | \u001b[0m 10.59   \u001b[0m |\n",
      "Total Dollar Sales:  2246.827883977668  Total Spending:  1328.9262731082963  Diff Spend:  1174.2722731082963\n",
      "| \u001b[0m 21      \u001b[0m | \u001b[0m-500.2   \u001b[0m | \u001b[0m 9.51    \u001b[0m | \u001b[0m 9.513   \u001b[0m | \u001b[0m 9.514   \u001b[0m | \u001b[0m 16.08   \u001b[0m | \u001b[0m 43.7    \u001b[0m | \u001b[0m 29.25   \u001b[0m |\n",
      "Total Dollar Sales:  2380.384913575968  Total Spending:  1529.1896133135892  Diff Spend:  1374.5356133135892\n",
      "| \u001b[0m 22      \u001b[0m | \u001b[0m-660.4   \u001b[0m | \u001b[0m 9.776   \u001b[0m | \u001b[0m 9.921   \u001b[0m | \u001b[0m 9.562   \u001b[0m | \u001b[0m 17.56   \u001b[0m | \u001b[0m 31.36   \u001b[0m | \u001b[0m 48.63   \u001b[0m |\n",
      "Total Dollar Sales:  2129.0933310596874  Total Spending:  1049.2973223769147  Diff Spend:  894.6433223769147\n",
      "| \u001b[0m 23      \u001b[0m | \u001b[0m-255.9   \u001b[0m | \u001b[0m 9.781   \u001b[0m | \u001b[0m 9.509   \u001b[0m | \u001b[0m 9.9     \u001b[0m | \u001b[0m 15.48   \u001b[0m | \u001b[0m 41.32   \u001b[0m | \u001b[0m 22.45   \u001b[0m |\n",
      "Total Dollar Sales:  1043.8734464096042  Total Spending:  132.18150257850192  Diff Spend:  -22.472497421498076\n",
      "| \u001b[95m 24      \u001b[0m | \u001b[95m 335.6   \u001b[0m | \u001b[95m 9.932   \u001b[0m | \u001b[95m 9.874   \u001b[0m | \u001b[95m 9.778   \u001b[0m | \u001b[95m 11.14   \u001b[0m | \u001b[95m 7.696   \u001b[0m | \u001b[95m 10.46   \u001b[0m |\n",
      "Total Dollar Sales:  1905.482602227954  Total Spending:  1021.1001177134351  Diff Spend:  866.4461177134351\n",
      "| \u001b[0m 25      \u001b[0m | \u001b[0m-294.8   \u001b[0m | \u001b[0m 9.522   \u001b[0m | \u001b[0m 9.554   \u001b[0m | \u001b[0m 9.613   \u001b[0m | \u001b[0m 37.08   \u001b[0m | \u001b[0m 30.19   \u001b[0m | \u001b[0m 5.565   \u001b[0m |\n",
      "Total Dollar Sales:  1941.2477888451335  Total Spending:  824.7161557483499  Diff Spend:  670.0621557483499\n",
      "| \u001b[0m 26      \u001b[0m | \u001b[0m-87.69   \u001b[0m | \u001b[0m 9.536   \u001b[0m | \u001b[0m 9.984   \u001b[0m | \u001b[0m 9.784   \u001b[0m | \u001b[0m 14.15   \u001b[0m | \u001b[0m 16.35   \u001b[0m | \u001b[0m 38.47   \u001b[0m |\n",
      "Total Dollar Sales:  2257.619304850514  Total Spending:  1193.4499479935641  Diff Spend:  1038.7959479935641\n",
      "| \u001b[0m 27      \u001b[0m | \u001b[0m-361.5   \u001b[0m | \u001b[0m 9.598   \u001b[0m | \u001b[0m 9.791   \u001b[0m | \u001b[0m 9.985   \u001b[0m | \u001b[0m 43.11   \u001b[0m | \u001b[0m 15.79   \u001b[0m | \u001b[0m 27.22   \u001b[0m |\n",
      "Total Dollar Sales:  1271.1654705896235  Total Spending:  370.70411164808274  Diff Spend:  216.05011164808275\n",
      "| \u001b[0m 28      \u001b[0m | \u001b[0m 165.3   \u001b[0m | \u001b[0m 9.81    \u001b[0m | \u001b[0m 9.914   \u001b[0m | \u001b[0m 9.578   \u001b[0m | \u001b[0m 5.836   \u001b[0m | \u001b[0m 8.151   \u001b[0m | \u001b[0m 26.89   \u001b[0m |\n",
      "Total Dollar Sales:  2488.947313497396  Total Spending:  1625.8945532695275  Diff Spend:  1471.2405532695275\n",
      "| \u001b[0m 29      \u001b[0m | \u001b[0m-724.6   \u001b[0m | \u001b[0m 9.803   \u001b[0m | \u001b[0m 9.784   \u001b[0m | \u001b[0m 9.659   \u001b[0m | \u001b[0m 49.49   \u001b[0m | \u001b[0m 31.09   \u001b[0m | \u001b[0m 22.11   \u001b[0m |\n",
      "Total Dollar Sales:  1511.480790641138  Total Spending:  356.101093651117  Diff Spend:  201.44709365111703\n",
      "| \u001b[0m 30      \u001b[0m | \u001b[0m 252.0   \u001b[0m | \u001b[0m 9.775   \u001b[0m | \u001b[0m 9.873   \u001b[0m | \u001b[0m 9.835   \u001b[0m | \u001b[0m 16.92   \u001b[0m | \u001b[0m 7.985   \u001b[0m | \u001b[0m 21.65   \u001b[0m |\n"
     ]
    },
    {
     "name": "stdout",
     "output_type": "stream",
     "text": [
      "Total Dollar Sales:  1238.6620733143343  Total Spending:  198.2144340961907  Diff Spend:  43.560434096190704\n",
      "| \u001b[0m 31      \u001b[0m | \u001b[0m 328.0   \u001b[0m | \u001b[0m 9.848   \u001b[0m | \u001b[0m 9.869   \u001b[0m | \u001b[0m 9.721   \u001b[0m | \u001b[0m 12.71   \u001b[0m | \u001b[0m 9.891   \u001b[0m | \u001b[0m 13.18   \u001b[0m |\n",
      "Total Dollar Sales:  1113.1812864279386  Total Spending:  156.7447615100147  Diff Spend:  2.0907615100147154\n",
      "| \u001b[0m 32      \u001b[0m | \u001b[0m 331.9   \u001b[0m | \u001b[0m 9.894   \u001b[0m | \u001b[0m 9.88    \u001b[0m | \u001b[0m 9.749   \u001b[0m | \u001b[0m 12.65   \u001b[0m | \u001b[0m 7.896   \u001b[0m | \u001b[0m 11.09   \u001b[0m |\n",
      "Total Dollar Sales:  1083.7406673744208  Total Spending:  143.20787483788428  Diff Spend:  -11.44612516211572\n",
      "| \u001b[95m 33      \u001b[0m | \u001b[95m 336.6   \u001b[0m | \u001b[95m 9.916   \u001b[0m | \u001b[95m 9.861   \u001b[0m | \u001b[95m 9.763   \u001b[0m | \u001b[95m 11.05   \u001b[0m | \u001b[95m 8.718   \u001b[0m | \u001b[95m 10.79   \u001b[0m |\n",
      "Total Dollar Sales:  1074.9804914545678  Total Spending:  140.7759147531126  Diff Spend:  -13.878085246887395\n",
      "| \u001b[0m 34      \u001b[0m | \u001b[0m 336.4   \u001b[0m | \u001b[0m 9.918   \u001b[0m | \u001b[0m 9.873   \u001b[0m | \u001b[0m 9.768   \u001b[0m | \u001b[0m 10.93   \u001b[0m | \u001b[0m 8.36    \u001b[0m | \u001b[0m 10.99   \u001b[0m |\n",
      "Total Dollar Sales:  1074.384222773627  Total Spending:  137.36928942470183  Diff Spend:  -17.284710575298163\n",
      "| \u001b[95m 35      \u001b[0m | \u001b[95m 339.6   \u001b[0m | \u001b[95m 9.962   \u001b[0m | \u001b[95m 9.828   \u001b[0m | \u001b[95m 9.814   \u001b[0m | \u001b[95m 11.14   \u001b[0m | \u001b[95m 8.525   \u001b[0m | \u001b[95m 10.53   \u001b[0m |\n",
      "Total Dollar Sales:  1081.1363413062377  Total Spending:  141.7741119601976  Diff Spend:  -12.87988803980241\n",
      "| \u001b[0m 36      \u001b[0m | \u001b[0m 337.2   \u001b[0m | \u001b[0m 10.0    \u001b[0m | \u001b[0m 9.5     \u001b[0m | \u001b[0m 10.0    \u001b[0m | \u001b[0m 11.58   \u001b[0m | \u001b[0m 8.608   \u001b[0m | \u001b[0m 10.26   \u001b[0m |\n",
      "Total Dollar Sales:  1070.120304656089  Total Spending:  119.36355329223788  Diff Spend:  -35.290446707762115\n",
      "| \u001b[95m 37      \u001b[0m | \u001b[95m 356.3   \u001b[0m | \u001b[95m 10.0    \u001b[0m | \u001b[95m 10.0    \u001b[0m | \u001b[95m 10.0    \u001b[0m | \u001b[95m 11.28   \u001b[0m | \u001b[95m 8.58    \u001b[0m | \u001b[95m 9.878   \u001b[0m |\n",
      "Total Dollar Sales:  1045.7619063321913  Total Spending:  114.90837149634858  Diff Spend:  -39.74562850365142\n",
      "| \u001b[0m 38      \u001b[0m | \u001b[0m 353.5   \u001b[0m | \u001b[0m 10.0    \u001b[0m | \u001b[0m 10.0    \u001b[0m | \u001b[0m 10.0    \u001b[0m | \u001b[0m 11.72   \u001b[0m | \u001b[0m 9.068   \u001b[0m | \u001b[0m 8.233   \u001b[0m |\n",
      "Total Dollar Sales:  1068.6643644491483  Total Spending:  119.25543265124757  Diff Spend:  -35.39856734875242\n",
      "| \u001b[0m 39      \u001b[0m | \u001b[0m 356.0   \u001b[0m | \u001b[0m 10.0    \u001b[0m | \u001b[0m 10.0    \u001b[0m | \u001b[0m 10.0    \u001b[0m | \u001b[0m 11.53   \u001b[0m | \u001b[0m 8.794   \u001b[0m | \u001b[0m 9.376   \u001b[0m |\n",
      "Total Dollar Sales:  1032.3715166096333  Total Spending:  109.56831945502239  Diff Spend:  -45.085680544977606\n",
      "| \u001b[0m 40      \u001b[0m | \u001b[0m 354.8   \u001b[0m | \u001b[0m 10.0    \u001b[0m | \u001b[0m 10.0    \u001b[0m | \u001b[0m 10.0    \u001b[0m | \u001b[0m 10.7    \u001b[0m | \u001b[0m 8.654   \u001b[0m | \u001b[0m 9.194   \u001b[0m |\n",
      "Total Dollar Sales:  1073.2261273741196  Total Spending:  120.21623194578865  Diff Spend:  -34.43776805421135\n",
      "| \u001b[95m 41      \u001b[0m | \u001b[95m 356.4   \u001b[0m | \u001b[95m 10.0    \u001b[0m | \u001b[95m 10.0    \u001b[0m | \u001b[95m 10.0    \u001b[0m | \u001b[95m 11.39   \u001b[0m | \u001b[95m 8.644   \u001b[0m | \u001b[95m 9.799   \u001b[0m |\n",
      "Total Dollar Sales:  1077.0926445362186  Total Spending:  121.14643710227068  Diff Spend:  -33.507562897729315\n",
      "| \u001b[95m 42      \u001b[0m | \u001b[95m 356.6   \u001b[0m | \u001b[95m 10.0    \u001b[0m | \u001b[95m 10.0    \u001b[0m | \u001b[95m 10.0    \u001b[0m | \u001b[95m 11.37   \u001b[0m | \u001b[95m 8.633   \u001b[0m | \u001b[95m 9.952   \u001b[0m |\n",
      "Total Dollar Sales:  1097.5729497247419  Total Spending:  126.39925315868965  Diff Spend:  -28.25474684131035\n",
      "| \u001b[95m 43      \u001b[0m | \u001b[95m 357.5   \u001b[0m | \u001b[95m 10.0    \u001b[0m | \u001b[95m 10.0    \u001b[0m | \u001b[95m 10.0    \u001b[0m | \u001b[95m 11.66   \u001b[0m | \u001b[95m 8.887   \u001b[0m | \u001b[95m 10.05   \u001b[0m |\n",
      "Total Dollar Sales:  1154.9147351354686  Total Spending:  141.90613046707182  Diff Spend:  -12.747869532928178\n",
      "| \u001b[95m 44      \u001b[0m | \u001b[95m 359.2   \u001b[0m | \u001b[95m 10.0    \u001b[0m | \u001b[95m 10.0    \u001b[0m | \u001b[95m 10.0    \u001b[0m | \u001b[95m 12.5    \u001b[0m | \u001b[95m 9.722   \u001b[0m | \u001b[95m 10.2    \u001b[0m |\n",
      "Total Dollar Sales:  1176.163024109733  Total Spending:  147.9645520406158  Diff Spend:  -6.689447959384182\n",
      "| \u001b[95m 45      \u001b[0m | \u001b[95m 359.5   \u001b[0m | \u001b[95m 10.0    \u001b[0m | \u001b[95m 10.0    \u001b[0m | \u001b[95m 10.0    \u001b[0m | \u001b[95m 12.79   \u001b[0m | \u001b[95m 10.1    \u001b[0m | \u001b[95m 10.22   \u001b[0m |\n",
      "Total Dollar Sales:  1186.592448746641  Total Spending:  151.2303890787252  Diff Spend:  -3.4236109212747863\n",
      "| \u001b[0m 46      \u001b[0m | \u001b[0m 359.4   \u001b[0m | \u001b[0m 10.0    \u001b[0m | \u001b[0m 10.0    \u001b[0m | \u001b[0m 10.0    \u001b[0m | \u001b[0m 13.01   \u001b[0m | \u001b[0m 10.34   \u001b[0m | \u001b[0m 10.1    \u001b[0m |\n",
      "Total Dollar Sales:  1172.8754497638995  Total Spending:  147.10904536210646  Diff Spend:  -7.5449546378935395\n",
      "| \u001b[0m 47      \u001b[0m | \u001b[0m 359.4   \u001b[0m | \u001b[0m 10.0    \u001b[0m | \u001b[0m 10.0    \u001b[0m | \u001b[0m 10.0    \u001b[0m | \u001b[0m 12.78   \u001b[0m | \u001b[0m 9.952   \u001b[0m | \u001b[0m 10.27   \u001b[0m |\n",
      "Total Dollar Sales:  1177.2516645049634  Total Spending:  148.13779464006302  Diff Spend:  -6.516205359936976\n",
      "| \u001b[95m 48      \u001b[0m | \u001b[95m 359.7   \u001b[0m | \u001b[95m 10.0    \u001b[0m | \u001b[95m 10.0    \u001b[0m | \u001b[95m 10.0    \u001b[0m | \u001b[95m 12.75   \u001b[0m | \u001b[95m 10.15   \u001b[0m | \u001b[95m 10.24   \u001b[0m |\n",
      "Total Dollar Sales:  1178.762097533397  Total Spending:  148.22573705589352  Diff Spend:  -6.4282629441064785\n",
      "| \u001b[95m 49      \u001b[0m | \u001b[95m 360.1   \u001b[0m | \u001b[95m 10.0    \u001b[0m | \u001b[95m 10.0    \u001b[0m | \u001b[95m 10.0    \u001b[0m | \u001b[95m 12.63   \u001b[0m | \u001b[95m 10.31   \u001b[0m | \u001b[95m 10.24   \u001b[0m |\n",
      "Total Dollar Sales:  1175.2643221034066  Total Spending:  147.0186536444848  Diff Spend:  -7.635346355515196\n",
      "| \u001b[95m 50      \u001b[0m | \u001b[95m 360.2   \u001b[0m | \u001b[95m 10.0    \u001b[0m | \u001b[95m 10.0    \u001b[0m | \u001b[95m 10.0    \u001b[0m | \u001b[95m 12.49   \u001b[0m | \u001b[95m 10.45   \u001b[0m | \u001b[95m 10.12   \u001b[0m |\n",
      "Total Dollar Sales:  1190.4483947326157  Total Spending:  151.47845106830314  Diff Spend:  -3.175548931696852\n",
      "| \u001b[95m 51      \u001b[0m | \u001b[95m 360.3   \u001b[0m | \u001b[95m 10.0    \u001b[0m | \u001b[95m 10.0    \u001b[0m | \u001b[95m 10.0    \u001b[0m | \u001b[95m 12.71   \u001b[0m | \u001b[95m 10.55   \u001b[0m | \u001b[95m 10.29   \u001b[0m |\n",
      "Total Dollar Sales:  1191.5443892633748  Total Spending:  151.77650790058118  Diff Spend:  -2.8774920994188165\n",
      "| \u001b[95m 52      \u001b[0m | \u001b[95m 360.3   \u001b[0m | \u001b[95m 10.0    \u001b[0m | \u001b[95m 10.0    \u001b[0m | \u001b[95m 10.0    \u001b[0m | \u001b[95m 12.62   \u001b[0m | \u001b[95m 10.97   \u001b[0m | \u001b[95m 9.999   \u001b[0m |\n",
      "Total Dollar Sales:  1177.6332904332512  Total Spending:  147.5167325232742  Diff Spend:  -7.13726747672581\n",
      "| \u001b[95m 53      \u001b[0m | \u001b[95m 360.4   \u001b[0m | \u001b[95m 10.0    \u001b[0m | \u001b[95m 10.0    \u001b[0m | \u001b[95m 10.0    \u001b[0m | \u001b[95m 12.41   \u001b[0m | \u001b[95m 10.62   \u001b[0m | \u001b[95m 10.1    \u001b[0m |\n",
      "Total Dollar Sales:  1221.0342067743773  Total Spending:  160.01218930066705  Diff Spend:  5.35818930066705\n",
      "| \u001b[95m 54      \u001b[0m | \u001b[95m 361.0   \u001b[0m | \u001b[95m 10.0    \u001b[0m | \u001b[95m 10.0    \u001b[0m | \u001b[95m 10.0    \u001b[0m | \u001b[95m 12.79   \u001b[0m | \u001b[95m 11.19   \u001b[0m | \u001b[95m 10.55   \u001b[0m |\n",
      "Total Dollar Sales:  1229.2900718072328  Total Spending:  161.95469562444504  Diff Spend:  7.300695624445041\n",
      "| \u001b[95m 55      \u001b[0m | \u001b[95m 361.5   \u001b[0m | \u001b[95m 10.0    \u001b[0m | \u001b[95m 10.0    \u001b[0m | \u001b[95m 10.0    \u001b[0m | \u001b[95m 12.62   \u001b[0m | \u001b[95m 11.24   \u001b[0m | \u001b[95m 10.91   \u001b[0m |\n",
      "Total Dollar Sales:  1251.8138985055025  Total Spending:  168.45088987433505  Diff Spend:  13.79688987433505\n",
      "| \u001b[95m 56      \u001b[0m | \u001b[95m 361.7   \u001b[0m | \u001b[95m 10.0    \u001b[0m | \u001b[95m 10.0    \u001b[0m | \u001b[95m 10.0    \u001b[0m | \u001b[95m 12.56   \u001b[0m | \u001b[95m 11.7    \u001b[0m | \u001b[95m 11.25   \u001b[0m |\n",
      "Total Dollar Sales:  1240.017270715437  Total Spending:  164.74139597057655  Diff Spend:  10.087395970576551\n",
      "| \u001b[95m 57      \u001b[0m | \u001b[95m 361.9   \u001b[0m | \u001b[95m 10.0    \u001b[0m | \u001b[95m 10.0    \u001b[0m | \u001b[95m 10.0    \u001b[0m | \u001b[95m 12.34   \u001b[0m | \u001b[95m 11.66   \u001b[0m | \u001b[95m 11.12   \u001b[0m |\n",
      "Total Dollar Sales:  1255.8544430697848  Total Spending:  169.70992954106126  Diff Spend:  15.05592954106126\n",
      "| \u001b[0m 58      \u001b[0m | \u001b[0m 361.7   \u001b[0m | \u001b[0m 10.0    \u001b[0m | \u001b[0m 10.0    \u001b[0m | \u001b[0m 10.0    \u001b[0m | \u001b[0m 12.39   \u001b[0m | \u001b[0m 12.13   \u001b[0m | \u001b[0m 11.12   \u001b[0m |\n",
      "Total Dollar Sales:  1259.6533026715995  Total Spending:  170.75119544989036  Diff Spend:  16.097195449890364\n",
      "| \u001b[0m 59      \u001b[0m | \u001b[0m 361.8   \u001b[0m | \u001b[0m 10.0    \u001b[0m | \u001b[0m 10.0    \u001b[0m | \u001b[0m 10.0    \u001b[0m | \u001b[0m 12.49   \u001b[0m | \u001b[0m 11.88   \u001b[0m | \u001b[0m 11.38   \u001b[0m |\n",
      "Total Dollar Sales:  1256.6386809801998  Total Spending:  170.09389799660033  Diff Spend:  15.439897996600337\n",
      "| \u001b[0m 60      \u001b[0m | \u001b[0m 361.6   \u001b[0m | \u001b[0m 10.0    \u001b[0m | \u001b[0m 10.0    \u001b[0m | \u001b[0m 10.0    \u001b[0m | \u001b[0m 12.49   \u001b[0m | \u001b[0m 12.14   \u001b[0m | \u001b[0m 11.03   \u001b[0m |\n"
     ]
    },
    {
     "name": "stdout",
     "output_type": "stream",
     "text": [
      "Total Dollar Sales:  1236.7831561667404  Total Spending:  163.51997428414845  Diff Spend:  8.86597428414845\n",
      "| \u001b[95m 61      \u001b[0m | \u001b[95m 362.2   \u001b[0m | \u001b[95m 10.0    \u001b[0m | \u001b[95m 10.0    \u001b[0m | \u001b[95m 10.0    \u001b[0m | \u001b[95m 12.06   \u001b[0m | \u001b[95m 11.65   \u001b[0m | \u001b[95m 11.3    \u001b[0m |\n",
      "Total Dollar Sales:  1237.0331352745784  Total Spending:  163.52089426358643  Diff Spend:  8.866894263586431\n",
      "| \u001b[95m 62      \u001b[0m | \u001b[95m 362.2   \u001b[0m | \u001b[95m 10.0    \u001b[0m | \u001b[95m 10.0    \u001b[0m | \u001b[95m 10.0    \u001b[0m | \u001b[95m 11.97   \u001b[0m | \u001b[95m 11.61   \u001b[0m | \u001b[95m 11.44   \u001b[0m |\n",
      "Total Dollar Sales:  1269.057670317692  Total Spending:  173.41497129508397  Diff Spend:  18.760971295083976\n",
      "| \u001b[0m 63      \u001b[0m | \u001b[0m 362.0   \u001b[0m | \u001b[0m 10.0    \u001b[0m | \u001b[0m 10.0    \u001b[0m | \u001b[0m 10.0    \u001b[0m | \u001b[0m 12.09   \u001b[0m | \u001b[0m 12.13   \u001b[0m | \u001b[0m 11.83   \u001b[0m |\n",
      "Total Dollar Sales:  1238.293816165306  Total Spending:  163.86873241931983  Diff Spend:  9.21473241931983\n",
      "| \u001b[95m 64      \u001b[0m | \u001b[95m 362.3   \u001b[0m | \u001b[95m 10.0    \u001b[0m | \u001b[95m 10.0    \u001b[0m | \u001b[95m 10.0    \u001b[0m | \u001b[95m 11.82   \u001b[0m | \u001b[95m 11.78   \u001b[0m | \u001b[95m 11.46   \u001b[0m |\n",
      "Total Dollar Sales:  1238.111691047293  Total Spending:  163.98014073926828  Diff Spend:  9.326140739268283\n",
      "| \u001b[0m 65      \u001b[0m | \u001b[0m 362.1   \u001b[0m | \u001b[0m 10.0    \u001b[0m | \u001b[0m 10.0    \u001b[0m | \u001b[0m 10.0    \u001b[0m | \u001b[0m 11.93   \u001b[0m | \u001b[0m 11.96   \u001b[0m | \u001b[0m 11.17   \u001b[0m |\n",
      "Total Dollar Sales:  1251.7678281556002  Total Spending:  168.16552022673162  Diff Spend:  13.51152022673162\n",
      "| \u001b[0m 66      \u001b[0m | \u001b[0m 362.0   \u001b[0m | \u001b[0m 10.0    \u001b[0m | \u001b[0m 10.0    \u001b[0m | \u001b[0m 10.0    \u001b[0m | \u001b[0m 12.16   \u001b[0m | \u001b[0m 12.0    \u001b[0m | \u001b[0m 11.34   \u001b[0m |\n",
      "Total Dollar Sales:  1242.7789948912919  Total Spending:  165.25152224651205  Diff Spend:  10.597522246512057\n",
      "| \u001b[0m 67      \u001b[0m | \u001b[0m 362.2   \u001b[0m | \u001b[0m 10.0    \u001b[0m | \u001b[0m 10.0    \u001b[0m | \u001b[0m 10.0    \u001b[0m | \u001b[0m 11.66   \u001b[0m | \u001b[0m 11.98   \u001b[0m | \u001b[0m 11.56   \u001b[0m |\n",
      "Total Dollar Sales:  1260.5550503301831  Total Spending:  170.7984478432326  Diff Spend:  16.144447843232598\n",
      "| \u001b[0m 68      \u001b[0m | \u001b[0m 362.0   \u001b[0m | \u001b[0m 10.0    \u001b[0m | \u001b[0m 10.0    \u001b[0m | \u001b[0m 10.0    \u001b[0m | \u001b[0m 11.68   \u001b[0m | \u001b[0m 12.25   \u001b[0m | \u001b[0m 11.85   \u001b[0m |\n",
      "Total Dollar Sales:  1221.2274693140464  Total Spending:  158.73104444578388  Diff Spend:  4.0770444457838835\n",
      "| \u001b[95m 69      \u001b[0m | \u001b[95m 362.3   \u001b[0m | \u001b[95m 10.0    \u001b[0m | \u001b[95m 10.0    \u001b[0m | \u001b[95m 10.0    \u001b[0m | \u001b[95m 11.57   \u001b[0m | \u001b[95m 11.68   \u001b[0m | \u001b[95m 11.25   \u001b[0m |\n",
      "Total Dollar Sales:  1267.0191955823743  Total Spending:  172.75310748638952  Diff Spend:  18.099107486389528\n",
      "| \u001b[0m 70      \u001b[0m | \u001b[0m 362.0   \u001b[0m | \u001b[0m 10.0    \u001b[0m | \u001b[0m 10.0    \u001b[0m | \u001b[0m 10.0    \u001b[0m | \u001b[0m 12.11   \u001b[0m | \u001b[0m 11.92   \u001b[0m | \u001b[0m 11.97   \u001b[0m |\n",
      "Total Dollar Sales:  1229.5741882093469  Total Spending:  162.06915788524947  Diff Spend:  7.415157885249471\n",
      "| \u001b[0m 71      \u001b[0m | \u001b[0m 361.5   \u001b[0m | \u001b[0m 10.0    \u001b[0m | \u001b[0m 10.0    \u001b[0m | \u001b[0m 10.0    \u001b[0m | \u001b[0m 12.36   \u001b[0m | \u001b[0m 11.86   \u001b[0m | \u001b[0m 10.57   \u001b[0m |\n",
      "Total Dollar Sales:  1229.2179788039498  Total Spending:  161.17944066301982  Diff Spend:  6.525440663019822\n",
      "| \u001b[0m 72      \u001b[0m | \u001b[0m 362.2   \u001b[0m | \u001b[0m 10.0    \u001b[0m | \u001b[0m 10.0    \u001b[0m | \u001b[0m 10.0    \u001b[0m | \u001b[0m 11.25   \u001b[0m | \u001b[0m 11.87   \u001b[0m | \u001b[0m 11.63   \u001b[0m |\n",
      "Total Dollar Sales:  1224.5605960692108  Total Spending:  159.7939342132081  Diff Spend:  5.139934213208107\n",
      "| \u001b[0m 73      \u001b[0m | \u001b[0m 362.2   \u001b[0m | \u001b[0m 10.0    \u001b[0m | \u001b[0m 10.0    \u001b[0m | \u001b[0m 10.0    \u001b[0m | \u001b[0m 11.88   \u001b[0m | \u001b[0m 11.52   \u001b[0m | \u001b[0m 11.21   \u001b[0m |\n",
      "Total Dollar Sales:  1222.5298907543013  Total Spending:  159.18475636904753  Diff Spend:  4.530756369047538\n",
      "| \u001b[0m 74      \u001b[0m | \u001b[0m 362.2   \u001b[0m | \u001b[0m 10.0    \u001b[0m | \u001b[0m 10.0    \u001b[0m | \u001b[0m 10.0    \u001b[0m | \u001b[0m 11.75   \u001b[0m | \u001b[0m 11.66   \u001b[0m | \u001b[0m 11.13   \u001b[0m |\n",
      "Total Dollar Sales:  1227.7402236656283  Total Spending:  160.68719655818268  Diff Spend:  6.033196558182681\n",
      "| \u001b[0m 75      \u001b[0m | \u001b[0m 362.3   \u001b[0m | \u001b[0m 10.0    \u001b[0m | \u001b[0m 10.0    \u001b[0m | \u001b[0m 10.0    \u001b[0m | \u001b[0m 11.55   \u001b[0m | \u001b[0m 11.81   \u001b[0m | \u001b[0m 11.35   \u001b[0m |\n",
      "=================================================================================================\n",
      "{'target': 362.29119634843005, 'params': {'eldp1': 10.0, 'eldp2': 10.0, 'eldp3': 10.0, 'tpr1': 11.567453030028298, 'tpr2': 11.68320644009607, 'tpr3': 11.248303373871389}}\n",
      "Wall time: 15.7 s\n"
     ]
    }
   ],
   "source": [
    "%%time\n",
    "from bayes_opt import BayesianOptimization\n",
    "\n",
    "# Bounded region of parameter space\n",
    "pbounds = {'eldp1': (9.5, 10),\n",
    "           'eldp2': (9.5, 10),\n",
    "           'eldp3': (9.5, 10),\n",
    "           'tpr1':(5,50),\n",
    "           'tpr2':(5,50),\n",
    "           'tpr3':(5,50)}\n",
    "\n",
    "optimizer = BayesianOptimization(\n",
    "    f=objective,\n",
    "    pbounds=pbounds,\n",
    "    random_state=1,\n",
    ")\n",
    "\n",
    "optimizer.maximize(\n",
    "    init_points=30,\n",
    "    n_iter=45,\n",
    ")\n",
    "print(optimizer.max)"
   ]
  },
  {
   "cell_type": "code",
   "execution_count": 14,
   "metadata": {
    "colab": {
     "base_uri": "https://localhost:8080/",
     "height": 34
    },
    "colab_type": "code",
    "id": "PoHC96EjNBDs",
    "outputId": "0cbfa4d4-305a-477b-8dbe-e786b0655c7f"
   },
   "outputs": [
    {
     "data": {
      "text/html": [
       "<div>\n",
       "<style scoped>\n",
       "    .dataframe tbody tr th:only-of-type {\n",
       "        vertical-align: middle;\n",
       "    }\n",
       "\n",
       "    .dataframe tbody tr th {\n",
       "        vertical-align: top;\n",
       "    }\n",
       "\n",
       "    .dataframe thead th {\n",
       "        text-align: right;\n",
       "    }\n",
       "</style>\n",
       "<table border=\"1\" class=\"dataframe\">\n",
       "  <thead>\n",
       "    <tr style=\"text-align: right;\">\n",
       "      <th></th>\n",
       "      <th>base_price</th>\n",
       "      <th>eldp</th>\n",
       "      <th>tpr</th>\n",
       "      <th>unit_sales</th>\n",
       "      <th>price</th>\n",
       "      <th>dollar_sales</th>\n",
       "      <th>trade_spend</th>\n",
       "      <th>total_trade_spend</th>\n",
       "    </tr>\n",
       "  </thead>\n",
       "  <tbody>\n",
       "    <tr>\n",
       "      <th>0</th>\n",
       "      <td>10</td>\n",
       "      <td>10.0</td>\n",
       "      <td>11.550599</td>\n",
       "      <td>46.202398</td>\n",
       "      <td>8.844940</td>\n",
       "      <td>408.657439</td>\n",
       "      <td>1.155060</td>\n",
       "      <td>53.366539</td>\n",
       "    </tr>\n",
       "    <tr>\n",
       "      <th>1</th>\n",
       "      <td>10</td>\n",
       "      <td>10.0</td>\n",
       "      <td>11.811182</td>\n",
       "      <td>47.244729</td>\n",
       "      <td>8.818882</td>\n",
       "      <td>416.645680</td>\n",
       "      <td>1.181118</td>\n",
       "      <td>55.801611</td>\n",
       "    </tr>\n",
       "    <tr>\n",
       "      <th>2</th>\n",
       "      <td>10</td>\n",
       "      <td>10.0</td>\n",
       "      <td>11.348904</td>\n",
       "      <td>45.395615</td>\n",
       "      <td>8.865110</td>\n",
       "      <td>402.437105</td>\n",
       "      <td>1.134890</td>\n",
       "      <td>51.519047</td>\n",
       "    </tr>\n",
       "  </tbody>\n",
       "</table>\n",
       "</div>"
      ],
      "text/plain": [
       "   base_price  eldp        tpr  unit_sales     price  dollar_sales  \\\n",
       "0          10  10.0  11.550599   46.202398  8.844940    408.657439   \n",
       "1          10  10.0  11.811182   47.244729  8.818882    416.645680   \n",
       "2          10  10.0  11.348904   45.395615  8.865110    402.437105   \n",
       "\n",
       "   trade_spend  total_trade_spend  \n",
       "0     1.155060          53.366539  \n",
       "1     1.181118          55.801611  \n",
       "2     1.134890          51.519047  "
      ]
     },
     "metadata": {},
     "output_type": "display_data"
    },
    {
     "name": "stdout",
     "output_type": "stream",
     "text": [
      "{'target': 362.29119634843005, 'params': {'eldp1': 10.0, 'eldp2': 10.0, 'eldp3': 10.0, 'tpr1': 11.567453030028298, 'tpr2': 11.68320644009607, 'tpr3': 11.248303373871389}}\n",
      "\n",
      "Total Dollar Sales:  1221.2274693140464  Total Spending:  158.73104444578388  Diff Spend:  4.0770444457838835\n",
      "\n",
      "Excel Solution Total Dollar Sales  1207.64\n"
     ]
    }
   ],
   "source": [
    "display(data)\n",
    "print(optimizer.max)\n",
    "p = optimizer.max['params']\n",
    "print()\n",
    "z=objective(eldp1=p['eldp1'],eldp2=p['eldp2'],eldp3=p['eldp2'],tpr1=p['tpr1'],tpr2=p['tpr2'],tpr3=p['tpr3'],)\n",
    "print()\n",
    "print('Excel Solution Total Dollar Sales ', 1207.64)"
   ]
  },
  {
   "cell_type": "code",
   "execution_count": 0,
   "metadata": {
    "colab": {},
    "colab_type": "code",
    "id": "WIxrRAzOYT86"
   },
   "outputs": [],
   "source": [
    "%%bash\n",
    "sudo pip install pulp            # PuLP\n",
    "sudo apt-get install glpk-utils  # GLPK\n",
    "sudo apt-get install coinor-cbc  # CoinOR"
   ]
  },
  {
   "cell_type": "code",
   "execution_count": 0,
   "metadata": {
    "colab": {},
    "colab_type": "code",
    "id": "O5FVhG6rZBf2"
   },
   "outputs": [],
   "source": [
    "from pulp import *"
   ]
  },
  {
   "cell_type": "code",
   "execution_count": 0,
   "metadata": {
    "colab": {},
    "colab_type": "code",
    "id": "yOaP-MPgZkTP"
   },
   "outputs": [],
   "source": [
    "my_lp_problem = pulp.LpProblem(\"MyLPProblem\", pulp.LpMaximize)"
   ]
  },
  {
   "cell_type": "code",
   "execution_count": 0,
   "metadata": {
    "colab": {
     "base_uri": "https://localhost:8080/",
     "height": 374
    },
    "colab_type": "code",
    "id": "9d0VRe8KLdZN",
    "outputId": "83a6312f-5cd7-4a30-f4d3-c6f726a2a2a1"
   },
   "outputs": [
    {
     "ename": "TypeError",
     "evalue": "ignored",
     "output_type": "error",
     "traceback": [
      "\u001b[0;31m---------------------------------------------------------------------------\u001b[0m",
      "\u001b[0;31mTypeError\u001b[0m                                 Traceback (most recent call last)",
      "\u001b[0;32m<ipython-input-104-26b98d5a8d9e>\u001b[0m in \u001b[0;36m<module>\u001b[0;34m()\u001b[0m\n\u001b[1;32m     19\u001b[0m \u001b[0;34m\u001b[0m\u001b[0m\n\u001b[1;32m     20\u001b[0m \u001b[0mk1\u001b[0m \u001b[0;34m=\u001b[0m \u001b[0;34m(\u001b[0m\u001b[0;36m1\u001b[0m\u001b[0;34m-\u001b[0m\u001b[0mtpr1\u001b[0m\u001b[0;34m*\u001b[0m\u001b[0;36m0.01\u001b[0m\u001b[0;34m)\u001b[0m\u001b[0;34m\u001b[0m\u001b[0;34m\u001b[0m\u001b[0m\n\u001b[0;32m---> 21\u001b[0;31m \u001b[0mprice_1\u001b[0m \u001b[0;34m=\u001b[0m \u001b[0meldp1\u001b[0m\u001b[0;34m*\u001b[0m\u001b[0mk1\u001b[0m\u001b[0;34m\u001b[0m\u001b[0;34m\u001b[0m\u001b[0m\n\u001b[0m\u001b[1;32m     22\u001b[0m \u001b[0mprice_2\u001b[0m \u001b[0;34m=\u001b[0m \u001b[0meldp2\u001b[0m\u001b[0;34m*\u001b[0m\u001b[0;34m(\u001b[0m\u001b[0;36m1\u001b[0m\u001b[0;34m-\u001b[0m\u001b[0mtpr2\u001b[0m\u001b[0;34m*\u001b[0m\u001b[0;36m0.01\u001b[0m\u001b[0;34m)\u001b[0m\u001b[0;34m\u001b[0m\u001b[0;34m\u001b[0m\u001b[0m\n\u001b[1;32m     23\u001b[0m \u001b[0mprice_3\u001b[0m \u001b[0;34m=\u001b[0m \u001b[0meldp3\u001b[0m\u001b[0;34m*\u001b[0m\u001b[0;34m(\u001b[0m\u001b[0;36m1\u001b[0m\u001b[0;34m-\u001b[0m\u001b[0mtpr3\u001b[0m\u001b[0;34m*\u001b[0m\u001b[0;36m0.01\u001b[0m\u001b[0;34m)\u001b[0m\u001b[0;34m\u001b[0m\u001b[0;34m\u001b[0m\u001b[0m\n",
      "\u001b[0;32m/usr/local/lib/python3.6/dist-packages/pulp/pulp.py\u001b[0m in \u001b[0;36m__mul__\u001b[0;34m(self, other)\u001b[0m\n\u001b[1;32m    213\u001b[0m \u001b[0;34m\u001b[0m\u001b[0m\n\u001b[1;32m    214\u001b[0m     \u001b[0;32mdef\u001b[0m \u001b[0m__mul__\u001b[0m\u001b[0;34m(\u001b[0m\u001b[0mself\u001b[0m\u001b[0;34m,\u001b[0m \u001b[0mother\u001b[0m\u001b[0;34m)\u001b[0m\u001b[0;34m:\u001b[0m\u001b[0;34m\u001b[0m\u001b[0;34m\u001b[0m\u001b[0m\n\u001b[0;32m--> 215\u001b[0;31m         \u001b[0;32mreturn\u001b[0m \u001b[0mLpAffineExpression\u001b[0m\u001b[0;34m(\u001b[0m\u001b[0mself\u001b[0m\u001b[0;34m)\u001b[0m \u001b[0;34m*\u001b[0m \u001b[0mother\u001b[0m\u001b[0;34m\u001b[0m\u001b[0;34m\u001b[0m\u001b[0m\n\u001b[0m\u001b[1;32m    216\u001b[0m \u001b[0;34m\u001b[0m\u001b[0m\n\u001b[1;32m    217\u001b[0m     \u001b[0;32mdef\u001b[0m \u001b[0m__rmul__\u001b[0m\u001b[0;34m(\u001b[0m\u001b[0mself\u001b[0m\u001b[0;34m,\u001b[0m \u001b[0mother\u001b[0m\u001b[0;34m)\u001b[0m\u001b[0;34m:\u001b[0m\u001b[0;34m\u001b[0m\u001b[0;34m\u001b[0m\u001b[0m\n",
      "\u001b[0;32m/usr/local/lib/python3.6/dist-packages/pulp/pulp.py\u001b[0m in \u001b[0;36m__mul__\u001b[0;34m(self, other)\u001b[0m\n\u001b[1;32m    801\u001b[0m             \u001b[0;32mif\u001b[0m \u001b[0mlen\u001b[0m\u001b[0;34m(\u001b[0m\u001b[0mother\u001b[0m\u001b[0;34m)\u001b[0m\u001b[0;34m:\u001b[0m\u001b[0;34m\u001b[0m\u001b[0;34m\u001b[0m\u001b[0m\n\u001b[1;32m    802\u001b[0m                 \u001b[0;32mif\u001b[0m \u001b[0mlen\u001b[0m\u001b[0;34m(\u001b[0m\u001b[0mself\u001b[0m\u001b[0;34m)\u001b[0m\u001b[0;34m:\u001b[0m\u001b[0;34m\u001b[0m\u001b[0;34m\u001b[0m\u001b[0m\n\u001b[0;32m--> 803\u001b[0;31m                     \u001b[0;32mraise\u001b[0m \u001b[0mTypeError\u001b[0m\u001b[0;34m(\u001b[0m\u001b[0;34m\"Non-constant expressions cannot be multiplied\"\u001b[0m\u001b[0;34m)\u001b[0m\u001b[0;34m\u001b[0m\u001b[0;34m\u001b[0m\u001b[0m\n\u001b[0m\u001b[1;32m    804\u001b[0m                 \u001b[0;32melse\u001b[0m\u001b[0;34m:\u001b[0m\u001b[0;34m\u001b[0m\u001b[0;34m\u001b[0m\u001b[0m\n\u001b[1;32m    805\u001b[0m                     \u001b[0mc\u001b[0m \u001b[0;34m=\u001b[0m \u001b[0mself\u001b[0m\u001b[0;34m.\u001b[0m\u001b[0mconstant\u001b[0m\u001b[0;34m\u001b[0m\u001b[0;34m\u001b[0m\u001b[0m\n",
      "\u001b[0;31mTypeError\u001b[0m: Non-constant expressions cannot be multiplied"
     ]
    }
   ],
   "source": [
    "eldp1 = pulp.LpVariable('eldp1', lowBound=9.5,upBound=10, cat='Continuous')\n",
    "eldp2 = pulp.LpVariable('eldp2', lowBound=9.5,upBound=10, cat='Continuous')\n",
    "eldp3 = pulp.LpVariable('eldp3', lowBound=9.5,upBound=10, cat='Continuous')\n",
    "tpr1 = pulp.LpVariable('tpr1', lowBound=5,upBound=50, cat='Continuous')\n",
    "tpr2 = pulp.LpVariable('tpr2', lowBound=5,upBound=50, cat='Continuous')\n",
    "tpr3 = pulp.LpVariable('tpr3', lowBound=5,upBound=50, cat='Continuous')\n",
    "# cons = pulp.LpVariable('tpr3', lowBound=100,upBound=100, cat='Continuous')\n",
    "\n",
    "base_price_1 = 10\n",
    "base_price_2 = 10\n",
    "base_price_3 = 10\n",
    "eldp_coeff = -1\n",
    "tpr_coeff = 4\n",
    "target_trade_spend = 154.654\n",
    "\n",
    "unit_sales_1 = eldp_coeff*eldp1 + tpr_coeff*tpr1 + 10\n",
    "unit_sales_2 = eldp_coeff*eldp2 + tpr_coeff*tpr2 + 10\n",
    "unit_sales_3 = eldp_coeff*eldp3 + tpr_coeff*tpr3 + 10\n",
    "\n",
    "price_1 = eldp1*(1-tpr1*0.01)\n",
    "price_2 = eldp2*(1-tpr2*0.01)\n",
    "price_3 = eldp3*(1-tpr3*0.01)\n",
    "\n",
    "dollar_sales_1 = price_1*unit_sales_1\n",
    "dollar_sales_2 = price_2*unit_sales_2\n",
    "dollar_sales_3 = price_3*unit_sales_3\n",
    "\n",
    "trade_spend_1 = base_price_1 - price_1\n",
    "trade_spend_2 = base_price_2 - price_2\n",
    "trade_spend_3 = base_price_3 - price_3\n",
    "\n",
    "total_trade_spend_1 = trade_spend_1*unit_sales_1\n",
    "total_trade_spend_2 = trade_spend_2*unit_sales_2\n",
    "total_trade_spend_3 = trade_spend_3*unit_sales_3\n",
    "\n",
    "total_spend = total_trade_spend_1 + total_trade_spend_2 + total_trade_spend_3\n",
    "total_dollar_sales = dollar_sales_1 + dollar_sales_2 + dollar_sales_3\n",
    "\n",
    "my_lp_problem += total_dollar_sales, \"Z\"\n",
    "\n",
    "my_lp_problem += total_spend == target_trade_spend\n",
    "my_lp_problem += total_dollar_sales >= 1207.64"
   ]
  },
  {
   "cell_type": "code",
   "execution_count": 0,
   "metadata": {
    "colab": {},
    "colab_type": "code",
    "id": "aE4XFkyAbDzv"
   },
   "outputs": [],
   "source": [
    "conda install -c mutirri pyopt"
   ]
  }
 ],
 "metadata": {
  "colab": {
   "name": "1_1.ipynb",
   "provenance": []
  },
  "kernelspec": {
   "display_name": "Python 3.7.6 64-bit ('R_and_Py': conda)",
   "language": "python",
   "name": "python37664bitrandpycondab1d8b248bd5f47798a360bf4e0e5b4e9"
  },
  "language_info": {
   "codemirror_mode": {
    "name": "ipython",
    "version": 3
   },
   "file_extension": ".py",
   "mimetype": "text/x-python",
   "name": "python",
   "nbconvert_exporter": "python",
   "pygments_lexer": "ipython3",
   "version": "3.7.6"
  }
 },
 "nbformat": 4,
 "nbformat_minor": 1
}
