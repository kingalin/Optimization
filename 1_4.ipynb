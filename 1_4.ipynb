{
 "cells": [
  {
   "cell_type": "code",
   "execution_count": 1,
   "metadata": {},
   "outputs": [],
   "source": [
    "from __future__ import division\n",
    "from pyomo.environ import *\n",
    "import numpy as np\n",
    "import pandas as pd\n",
    "from collections import deque"
   ]
  },
  {
   "cell_type": "code",
   "execution_count": 2,
   "metadata": {},
   "outputs": [],
   "source": [
    "base_price=[10,10,10]\n",
    "target_trade_spend = 10515.58\n",
    "intercept = 15\n",
    "coef_1 =-3\n",
    "coef_2 =0.004\n",
    "target_edlp_spend = 1906.41\n",
    "target_tpr_spend = 8609.172\n",
    "# init = [1,1,0]\n",
    "idx = range(3)\n",
    "# week=3\n",
    "# lb = [9.5,9.5,9.5,5,5,5,0,0,0]\n",
    "# ub = [10,10,10,50,50,50,1,1,1]\n",
    "\n"
   ]
  },
  {
   "cell_type": "code",
   "execution_count": 3,
   "metadata": {},
   "outputs": [],
   "source": [
    "def cal_sales_price(edlp, tpr, flag):\n",
    "    base_price=[10,10,10]\n",
    "    \n",
    "    unit_sales = list(exp((log( edlp[i])*coef_1)* flag[i]\n",
    "                 +(log(base_price[i])*coef_1+ tpr[i]*coef_2)*(1- flag[i])\n",
    "                 +intercept) for i in  idx)\n",
    "    \n",
    "    price = list((base_price[i]*(1-tpr[i]/100)*(1-flag[i])) \n",
    "        +(edlp[i]*flag[i]) for i in idx)\n",
    "    return unit_sales, price\n",
    "    \n",
    "def calc_dollar_sales(edlp, tpr, flag):\n",
    "    \n",
    "    base_price=[10,10,10]\n",
    "    unit_sales, price = cal_sales_price(edlp, tpr, flag)\n",
    "    \n",
    "    dollar_sales = [unit_sales[i]*price[i] for i in idx]\n",
    "    \n",
    "    return dollar_sales\n",
    "      \n",
    "def calc_total_trade_spent(edlp, tpr, flag):\n",
    "    \n",
    "    base_price=[10,10,10]\n",
    "    unit_sales, price = cal_sales_price(edlp, tpr, flag)\n",
    "    \n",
    "    trade_spent = [base_price[i]-price[i] for i in idx]\n",
    "    total_trade_spent = [trade_spent[i]*unit_sales[i] for i in idx]\n",
    "    \n",
    "    return total_trade_spent\n",
    "    \n",
    "    \n",
    "def calc_edlp_trade_spent(edlp, tpr, flag):\n",
    "    \n",
    "    base_price=[10,10,10]\n",
    "    unit_sales, price = cal_sales_price(edlp, tpr, flag)\n",
    "    \n",
    "    trade_spent = [base_price[i]-price[i] for i in idx]\n",
    "    total_trade_spent = [trade_spent[i]*unit_sales[i] for i in idx]\n",
    "    \n",
    "    edlp_trade_spent = [total_trade_spent[i]*flag[i] for i in idx]\n",
    "    \n",
    "    return edlp_trade_spent\n",
    "    \n",
    "def calc_tpr_trade_spent(edlp, tpr, flag):\n",
    "    base_price=[10,10,10]\n",
    "    unit_sales, price = cal_sales_price(edlp, tpr, flag)\n",
    "    \n",
    "    trade_spent = [base_price[i]-price[i] for i in idx]\n",
    "    total_trade_spent = [trade_spent[i]*unit_sales[i] for i in idx]\n",
    "    tpr_trade_spent = [total_trade_spent[i]*(1-flag[i]) for i in idx]\n",
    "    \n",
    "    return tpr_trade_spent\n",
    "    \n",
    "def calc_flag_util(flag):\n",
    "    flag_util = [flag[i]*(1-flag[i]) for i in idx]\n",
    "    return flag_util\n",
    "\n"
   ]
  },
  {
   "cell_type": "code",
   "execution_count": 4,
   "metadata": {},
   "outputs": [],
   "source": [
    "def create_model(init):\n",
    "    print(\"Init value= \",init)\n",
    "    def initial(model,i):\n",
    "        return init[i]\n",
    "\n",
    "    model = ConcreteModel(name='Spend_Optim')\n",
    "    model.edlp = Var(idx, initialize=10, bounds=(9.5, 10), domain=NonNegativeReals)\n",
    "    model.tpr = Var(idx, initialize=5, bounds=(5, 50), domain=NonNegativeReals)\n",
    "    model.flag = Var(idx,initialize=initial,domain=Binary)\n",
    "    model.obj = Objective(expr=sum(calc_dollar_sales(model.edlp, model.tpr, model.flag)) ,sense= maximize)\n",
    "    model.c1 = Constraint(expr = sum(calc_total_trade_spent(model.edlp, model.tpr, model.flag)) == target_trade_spend )\n",
    "    model.c3 = Constraint(expr = sum(calc_tpr_trade_spent(model.edlp, model.tpr, model.flag)) == target_tpr_spend )\n",
    "    # model.c2 = Constraint(expr = sum(calc_edlp_trade_spent(model.variables)) == target_edlp_spend )\n",
    "    model.c4 = Constraint(expr = sum(calc_flag_util(model.flag))==0 )\n",
    "    return model"
   ]
  },
  {
   "cell_type": "code",
   "execution_count": 5,
   "metadata": {},
   "outputs": [],
   "source": [
    "def get_info_from_results(results, info_string):\n",
    "    i = str(results).lower().find(info_string.lower()) + len(info_string)\n",
    "    value = ''\n",
    "    while str(results)[i] != '\\n':\n",
    "        value = value + str(results)[i]\n",
    "        i += 1\n",
    "    return value"
   ]
  },
  {
   "cell_type": "code",
   "execution_count": 6,
   "metadata": {
    "scrolled": false
   },
   "outputs": [
    {
     "name": "stdout",
     "output_type": "stream",
     "text": [
      "Init value=  [0, 0, 0]\n"
     ]
    },
    {
     "ename": "AttributeError",
     "evalue": "'ConcreteModel' object has no attribute 'xyz'",
     "output_type": "error",
     "traceback": [
      "\u001b[0;31m---------------------------------------------------------------------------\u001b[0m",
      "\u001b[0;31mAttributeError\u001b[0m                            Traceback (most recent call last)",
      "\u001b[0;32m<ipython-input-6-a89bcaa70866>\u001b[0m in \u001b[0;36m<module>\u001b[0;34m\u001b[0m\n\u001b[1;32m     14\u001b[0m               [1,1,1]]    \n\u001b[1;32m     15\u001b[0m \u001b[0;32mfor\u001b[0m \u001b[0mc\u001b[0m \u001b[0;32min\u001b[0m \u001b[0mcombinations\u001b[0m\u001b[0;34m:\u001b[0m\u001b[0;34m\u001b[0m\u001b[0m\n\u001b[0;32m---> 16\u001b[0;31m     \u001b[0mcall_solver\u001b[0m\u001b[0;34m(\u001b[0m\u001b[0mc\u001b[0m\u001b[0;34m,\u001b[0m \u001b[0;34m'bonmin'\u001b[0m\u001b[0;34m)\u001b[0m\u001b[0;34m\u001b[0m\u001b[0m\n\u001b[0m",
      "\u001b[0;32m<ipython-input-6-a89bcaa70866>\u001b[0m in \u001b[0;36mcall_solver\u001b[0;34m(init, name)\u001b[0m\n\u001b[1;32m      1\u001b[0m \u001b[0;32mdef\u001b[0m \u001b[0mcall_solver\u001b[0m\u001b[0;34m(\u001b[0m\u001b[0minit\u001b[0m\u001b[0;34m,\u001b[0m \u001b[0mname\u001b[0m\u001b[0;34m=\u001b[0m\u001b[0;34m'bonmin'\u001b[0m\u001b[0;34m)\u001b[0m\u001b[0;34m:\u001b[0m\u001b[0;34m\u001b[0m\u001b[0m\n\u001b[1;32m      2\u001b[0m     \u001b[0;32massert\u001b[0m \u001b[0mtype\u001b[0m\u001b[0;34m(\u001b[0m\u001b[0minit\u001b[0m\u001b[0;34m)\u001b[0m \u001b[0;34m==\u001b[0m \u001b[0mlist\u001b[0m\u001b[0;34m\u001b[0m\u001b[0m\n\u001b[0;32m----> 3\u001b[0;31m     \u001b[0mmodel\u001b[0m \u001b[0;34m=\u001b[0m \u001b[0mcreate_model\u001b[0m\u001b[0;34m(\u001b[0m\u001b[0minit\u001b[0m\u001b[0;34m)\u001b[0m\u001b[0;34m\u001b[0m\u001b[0m\n\u001b[0m\u001b[1;32m      4\u001b[0m     \u001b[0mopt_1\u001b[0m \u001b[0;34m=\u001b[0m \u001b[0mSolverFactory\u001b[0m\u001b[0;34m(\u001b[0m\u001b[0mname\u001b[0m\u001b[0;34m)\u001b[0m\u001b[0;34m\u001b[0m\u001b[0m\n\u001b[1;32m      5\u001b[0m     \u001b[0mresults_1\u001b[0m \u001b[0;34m=\u001b[0m \u001b[0mopt_1\u001b[0m\u001b[0;34m.\u001b[0m\u001b[0msolve\u001b[0m\u001b[0;34m(\u001b[0m\u001b[0mmodel\u001b[0m\u001b[0;34m)\u001b[0m\u001b[0;34m\u001b[0m\u001b[0m\n",
      "\u001b[0;32m<ipython-input-4-e56b68c5d6fb>\u001b[0m in \u001b[0;36mcreate_model\u001b[0;34m(init)\u001b[0m\n\u001b[1;32m      7\u001b[0m     \u001b[0mmodel\u001b[0m\u001b[0;34m.\u001b[0m\u001b[0medlp\u001b[0m \u001b[0;34m=\u001b[0m \u001b[0mVar\u001b[0m\u001b[0;34m(\u001b[0m\u001b[0midx\u001b[0m\u001b[0;34m,\u001b[0m \u001b[0minitialize\u001b[0m\u001b[0;34m=\u001b[0m\u001b[0;36m10\u001b[0m\u001b[0;34m,\u001b[0m \u001b[0mbounds\u001b[0m\u001b[0;34m=\u001b[0m\u001b[0;34m(\u001b[0m\u001b[0;36m9.5\u001b[0m\u001b[0;34m,\u001b[0m \u001b[0;36m10\u001b[0m\u001b[0;34m)\u001b[0m\u001b[0;34m,\u001b[0m \u001b[0mdomain\u001b[0m\u001b[0;34m=\u001b[0m\u001b[0mNonNegativeReals\u001b[0m\u001b[0;34m)\u001b[0m\u001b[0;34m\u001b[0m\u001b[0m\n\u001b[1;32m      8\u001b[0m     \u001b[0;32mfor\u001b[0m \u001b[0mi\u001b[0m \u001b[0;32min\u001b[0m \u001b[0mrange\u001b[0m\u001b[0;34m(\u001b[0m\u001b[0;36m10\u001b[0m\u001b[0;34m)\u001b[0m\u001b[0;34m:\u001b[0m\u001b[0;34m\u001b[0m\u001b[0m\n\u001b[0;32m----> 9\u001b[0;31m         \u001b[0mmodel\u001b[0m\u001b[0;34m.\u001b[0m\u001b[0mxyz\u001b[0m\u001b[0;34m[\u001b[0m\u001b[0mi\u001b[0m\u001b[0;34m]\u001b[0m \u001b[0;34m=\u001b[0m \u001b[0mVar\u001b[0m\u001b[0;34m(\u001b[0m\u001b[0midx\u001b[0m\u001b[0;34m,\u001b[0m \u001b[0minitialize\u001b[0m\u001b[0;34m=\u001b[0m\u001b[0;36m10\u001b[0m\u001b[0;34m,\u001b[0m \u001b[0mbounds\u001b[0m\u001b[0;34m=\u001b[0m\u001b[0;34m(\u001b[0m\u001b[0;36m9.5\u001b[0m\u001b[0;34m,\u001b[0m \u001b[0;36m10\u001b[0m\u001b[0;34m)\u001b[0m\u001b[0;34m,\u001b[0m \u001b[0mdomain\u001b[0m\u001b[0;34m=\u001b[0m\u001b[0mNonNegativeReals\u001b[0m\u001b[0;34m)\u001b[0m\u001b[0;34m\u001b[0m\u001b[0m\n\u001b[0m\u001b[1;32m     10\u001b[0m     \u001b[0mmodel\u001b[0m\u001b[0;34m.\u001b[0m\u001b[0mtpr\u001b[0m \u001b[0;34m=\u001b[0m \u001b[0mVar\u001b[0m\u001b[0;34m(\u001b[0m\u001b[0midx\u001b[0m\u001b[0;34m,\u001b[0m \u001b[0minitialize\u001b[0m\u001b[0;34m=\u001b[0m\u001b[0;36m5\u001b[0m\u001b[0;34m,\u001b[0m \u001b[0mbounds\u001b[0m\u001b[0;34m=\u001b[0m\u001b[0;34m(\u001b[0m\u001b[0;36m5\u001b[0m\u001b[0;34m,\u001b[0m \u001b[0;36m50\u001b[0m\u001b[0;34m)\u001b[0m\u001b[0;34m,\u001b[0m \u001b[0mdomain\u001b[0m\u001b[0;34m=\u001b[0m\u001b[0mNonNegativeReals\u001b[0m\u001b[0;34m)\u001b[0m\u001b[0;34m\u001b[0m\u001b[0m\n\u001b[1;32m     11\u001b[0m     \u001b[0mmodel\u001b[0m\u001b[0;34m.\u001b[0m\u001b[0mflag\u001b[0m \u001b[0;34m=\u001b[0m \u001b[0mVar\u001b[0m\u001b[0;34m(\u001b[0m\u001b[0midx\u001b[0m\u001b[0;34m,\u001b[0m\u001b[0minitialize\u001b[0m\u001b[0;34m=\u001b[0m\u001b[0minitial\u001b[0m\u001b[0;34m,\u001b[0m\u001b[0mdomain\u001b[0m\u001b[0;34m=\u001b[0m\u001b[0mBinary\u001b[0m\u001b[0;34m)\u001b[0m\u001b[0;34m\u001b[0m\u001b[0m\n",
      "\u001b[0;32m~/nilagnik/mini_installation/miniconda/envs/optim_env/lib/python3.7/site-packages/pyomo/core/base/block.py\u001b[0m in \u001b[0;36m__getattr__\u001b[0;34m(self, val)\u001b[0m\n\u001b[1;32m    557\u001b[0m         \u001b[0;31m# throw the \"normal\" AttributeError\u001b[0m\u001b[0;34m\u001b[0m\u001b[0;34m\u001b[0m\u001b[0m\n\u001b[1;32m    558\u001b[0m         raise AttributeError(\"'%s' object has no attribute '%s'\"\n\u001b[0;32m--> 559\u001b[0;31m                              % (self.__class__.__name__, val))\n\u001b[0m\u001b[1;32m    560\u001b[0m \u001b[0;34m\u001b[0m\u001b[0m\n\u001b[1;32m    561\u001b[0m     \u001b[0;32mdef\u001b[0m \u001b[0m__setattr__\u001b[0m\u001b[0;34m(\u001b[0m\u001b[0mself\u001b[0m\u001b[0;34m,\u001b[0m \u001b[0mname\u001b[0m\u001b[0;34m,\u001b[0m \u001b[0mval\u001b[0m\u001b[0;34m)\u001b[0m\u001b[0;34m:\u001b[0m\u001b[0;34m\u001b[0m\u001b[0m\n",
      "\u001b[0;31mAttributeError\u001b[0m: 'ConcreteModel' object has no attribute 'xyz'"
     ]
    }
   ],
   "source": [
    "def call_solver(init, name='bonmin'):\n",
    "    assert type(init) == list\n",
    "    model = create_model(init)\n",
    "    opt_1 = SolverFactory(name)\n",
    "    results_1 = opt_1.solve(model)\n",
    "    model.display()\n",
    "#     print(results_1)\n",
    "#     print(get_info_from_results(results_1, 'Time: '))\n",
    "\n",
    "combinations=[[0,0,0],\n",
    "              [0,0,1],\n",
    "              [0,1,1],\n",
    "#               [1,0,0],[1,0,1],[1,1,0],[0,1,0],\n",
    "              [1,1,1]]    \n",
    "for c in combinations:\n",
    "    call_solver(c, 'bonmin')"
   ]
  },
  {
   "cell_type": "code",
   "execution_count": null,
   "metadata": {},
   "outputs": [],
   "source": []
  }
 ],
 "metadata": {
  "kernelspec": {
   "display_name": "Python 3",
   "language": "python",
   "name": "python3"
  },
  "language_info": {
   "codemirror_mode": {
    "name": "ipython",
    "version": 3
   },
   "file_extension": ".py",
   "mimetype": "text/x-python",
   "name": "python",
   "nbconvert_exporter": "python",
   "pygments_lexer": "ipython3",
   "version": "3.7.0"
  }
 },
 "nbformat": 4,
 "nbformat_minor": 4
}
