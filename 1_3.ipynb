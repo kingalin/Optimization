{
 "cells": [
  {
   "cell_type": "code",
   "execution_count": 3,
   "metadata": {
    "colab": {},
    "colab_type": "code",
    "id": "6qCUWiilERwM"
   },
   "outputs": [],
   "source": [
    "import numpy as np\n",
    "from scipy.optimize import minimize"
   ]
  },
  {
   "cell_type": "code",
   "execution_count": 22,
   "metadata": {},
   "outputs": [],
   "source": [
    "base_price=[10,10,10]\n",
    "target_trade_spend = 10515.58\n",
    "intercept = 15\n",
    "coef_1 =-3\n",
    "coef_2 =0.004\n",
    "target_edlp_spend = 1906.41\n",
    "target_tpr_spend = 8609.172"
   ]
  },
  {
   "cell_type": "code",
   "execution_count": 32,
   "metadata": {},
   "outputs": [
    {
     "data": {
      "text/plain": [
       "-96002.20397006179"
      ]
     },
     "execution_count": 32,
     "metadata": {},
     "output_type": "execute_result"
    }
   ],
   "source": [
    "def objective(x):\n",
    "    \n",
    "    mid = int(len(x)/3)\n",
    "    total = 0\n",
    "    unit_sales = list(np.exp((np.log(x[i])*coef_1)*x[i+mid+mid]\n",
    "             +(np.log(base_price[i])*coef_1+x[i+mid]*coef_2)*(1-x[i+mid+mid])\n",
    "             +intercept) for i in range(mid))\n",
    "    \n",
    "    price = list((base_price[i]*(1-x[i+mid]/100)*(1-x[i+mid+mid])) \n",
    "        +(x[i]*x[i+mid+mid]) for i in range(mid))\n",
    "    \n",
    "    dollar_sales = [a*b for a,b in zip(unit_sales,price)]\n",
    "    \n",
    "    return -sum(dollar_sales)\n",
    "objective([10,10,10,10,10,10,1,1,0])"
   ]
  },
  {
   "cell_type": "code",
   "execution_count": 35,
   "metadata": {},
   "outputs": [
    {
     "data": {
      "text/plain": [
       "-7113.151497708937"
      ]
     },
     "execution_count": 35,
     "metadata": {},
     "output_type": "execute_result"
    }
   ],
   "source": [
    "def constraint1(x):\n",
    "    \n",
    "    mid = int(len(x)/3)\n",
    "    total = 0\n",
    "    unit_sales = list(np.exp((np.log(x[i])*coef_1)*x[i+mid+mid]\n",
    "             +(np.log(base_price[i])*coef_1+x[i+mid]*coef_2)*(1-x[i+mid+mid])\n",
    "             +intercept) for i in range(mid))\n",
    "    \n",
    "    price = list((base_price[i]*(1-x[i+mid]/100)*(1-x[i+mid+mid])) \n",
    "        +(x[i]*x[i+mid+mid]) for i in range(mid))\n",
    "    \n",
    "#     dollar_sales = [a*b for a,b in zip(unit_sales,price)]\n",
    "    trade_spent = [a-b for a,b in zip(base_price, price)]\n",
    "\n",
    "    total_trade_spent = [a*b for a,b in zip(trade_spent, unit_sales)]\n",
    "    return sum(total_trade_spent) - target_trade_spend\n",
    "constraint1([10,10,10,10,10,10,1,1,0])"
   ]
  },
  {
   "cell_type": "code",
   "execution_count": 27,
   "metadata": {},
   "outputs": [
    {
     "data": {
      "text/plain": [
       "-632204.2415494585"
      ]
     },
     "execution_count": 27,
     "metadata": {},
     "output_type": "execute_result"
    }
   ],
   "source": [
    "def constraint2(x):\n",
    "    mid = int(len(x)/3)\n",
    "    total = 0\n",
    "    unit_sales = list(np.exp((np.log(x[i])*coef_1)*x[i+mid+mid]\n",
    "             +(np.log(base_price[i])*coef_1+x[i+mid]*coef_2)*(1-x[i+mid+mid])\n",
    "             +intercept) for i in range(mid))\n",
    "    \n",
    "    price = list((base_price[i]*(1-x[i+mid]/100)*(1-x[i+mid+mid])) \n",
    "        +(x[i]*x[i+mid+mid]) for i in range(mid))\n",
    "    \n",
    "    trade_spent = [a-b for a,b in zip(base_price, price)]\n",
    "\n",
    "    total_trade_spent = [a*b for a,b in zip(trade_spent, unit_sales)]\n",
    "\n",
    "    edlp_trade_spent = [a*b for a,b in zip(total_trade_spent, x[mid+mid:])]\n",
    "    \n",
    "    return sum(edlp_trade_spent) - target_edlp_spend\n",
    "constraint2([9.5,10,10,10,10,10])"
   ]
  },
  {
   "cell_type": "code",
   "execution_count": 28,
   "metadata": {},
   "outputs": [
    {
     "data": {
      "text/plain": [
       "558658.8763945126"
      ]
     },
     "execution_count": 28,
     "metadata": {},
     "output_type": "execute_result"
    }
   ],
   "source": [
    "def constraint3(x):\n",
    "    mid = int(len(x)/3)\n",
    "    total = 0\n",
    "    unit_sales = list(np.exp((np.log(x[i])*coef_1)*x[i+mid+mid]\n",
    "             +(np.log(base_price[i])*coef_1+x[i+mid]*coef_2)*(1-x[i+mid+mid])\n",
    "             +intercept) for i in range(mid))\n",
    "    \n",
    "    price = list((base_price[i]*(1-x[i+mid]/100)*(1-x[i+mid+mid])) \n",
    "        +(x[i]*x[i+mid+mid]) for i in range(mid))\n",
    "    \n",
    "    trade_spent = [a-b for a,b in zip(base_price, price)]\n",
    "\n",
    "    total_trade_spent = [a*b for a,b in zip(trade_spent, unit_sales)]\n",
    "\n",
    "    edlp_trade_spent = [a*(1-b) for a,b in zip(total_trade_spent, x[mid+mid:])]\n",
    "    return sum(edlp_trade_spent) - target_tpr_spend\n",
    "constraint3([9.5,10,10,10,10,10])"
   ]
  },
  {
   "cell_type": "code",
   "execution_count": 29,
   "metadata": {},
   "outputs": [
    {
     "name": "stdout",
     "output_type": "stream",
     "text": [
      "Initial Total Sales Objective: 93933.88676596023\n"
     ]
    }
   ],
   "source": [
    "n = 9\n",
    "x0 = np.zeros(n)\n",
    "x0[0] = 10.0\n",
    "x0[1] = 10.0\n",
    "x0[2] = 10.0\n",
    "x0[3] = 10.0\n",
    "x0[4] = 10.0\n",
    "x0[5] = 10.0\n",
    "x0[6] = 0.0\n",
    "x0[7] = 0.0\n",
    "x0[8] = 1.0\n",
    "\n",
    "# show initial objective\n",
    "print('Initial Total Sales Objective: ' + str(-objective(x0)))"
   ]
  },
  {
   "cell_type": "code",
   "execution_count": 31,
   "metadata": {
    "colab": {
     "base_uri": "https://localhost:8080/",
     "height": 153
    },
    "colab_type": "code",
    "id": "MFVkqqri1pb1",
    "outputId": "b477f687-b708-46b0-ed66-230f6003da2d"
   },
   "outputs": [
    {
     "name": "stdout",
     "output_type": "stream",
     "text": [
      "Final Total Sales Objective: 93933.88676596023\n",
      "Solution\n",
      "edlp1 = 10.0\n",
      "edlp2 = 10.0\n",
      "edlp3 = 10.0\n",
      "tpr1 = 10.0\n",
      "tpr2 = 10.0\n",
      "tpr3 = 10.0\n",
      "flag1 = 0.0\n",
      "flag2 = 0.0\n",
      "flag3 = 1.0\n"
     ]
    }
   ],
   "source": [
    "# optimize\n",
    "b1 = (9.5,10.0)\n",
    "b2 = (5,50)\n",
    "b3 = (0,1)\n",
    "bnds = (b1, b1, b1, b2, b2, b2,b3,b3,b3)\n",
    "con1 = {'type': 'eq', 'fun': constraint1}\n",
    "con2 = {'type': 'eq', 'fun': constraint2}\n",
    "con3 = {'type': 'eq', 'fun': constraint3}\n",
    "\n",
    "cons = ([con1,con2,con3])\n",
    "solution = minimize(objective,x0,method='SLSQP',bounds=bnds,constraints=cons)\n",
    "x = solution.x\n",
    "\n",
    "# show final objective\n",
    "print('Final Total Sales Objective: ' + str(-objective(x)))\n",
    "\n",
    "# print solution\n",
    "print('Solution')\n",
    "print('edlp1 = ' + str(x[0]))\n",
    "print('edlp2 = ' + str(x[1]))\n",
    "print('edlp3 = ' + str(x[2]))\n",
    "print('tpr1 = ' + str(x[3]))\n",
    "print('tpr2 = ' + str(x[4]))\n",
    "print('tpr3 = ' + str(x[5]))\n",
    "print('flag1 = ' + str(x[6]))\n",
    "print('flag2 = ' + str(x[7]))\n",
    "print('flag3 = ' + str(x[8]))"
   ]
  },
  {
   "cell_type": "code",
   "execution_count": null,
   "metadata": {},
   "outputs": [],
   "source": []
  },
  {
   "cell_type": "code",
   "execution_count": null,
   "metadata": {},
   "outputs": [],
   "source": []
  }
 ],
 "metadata": {
  "colab": {
   "name": "1_3.ipynb",
   "provenance": []
  },
  "kernelspec": {
   "display_name": "Python 3.7.6 64-bit ('R_and_Py': conda)",
   "language": "python",
   "name": "python37664bitrandpycondab1d8b248bd5f47798a360bf4e0e5b4e9"
  },
  "language_info": {
   "codemirror_mode": {
    "name": "ipython",
    "version": 3
   },
   "file_extension": ".py",
   "mimetype": "text/x-python",
   "name": "python",
   "nbconvert_exporter": "python",
   "pygments_lexer": "ipython3",
   "version": "3.7.6"
  }
 },
 "nbformat": 4,
 "nbformat_minor": 1
}
